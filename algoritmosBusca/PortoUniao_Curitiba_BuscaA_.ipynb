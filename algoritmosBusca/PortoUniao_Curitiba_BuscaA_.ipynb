{
  "nbformat": 4,
  "nbformat_minor": 0,
  "metadata": {
    "colab": {
      "provenance": [],
      "authorship_tag": "ABX9TyMlrVgfrYzcNY1jJ+ls/y87",
      "include_colab_link": true
    },
    "kernelspec": {
      "name": "python3",
      "display_name": "Python 3"
    },
    "language_info": {
      "name": "python"
    }
  },
  "cells": [
    {
      "cell_type": "markdown",
      "metadata": {
        "id": "view-in-github",
        "colab_type": "text"
      },
      "source": [
        "<a href=\"https://colab.research.google.com/github/CassiaXMS/Inteligencia_Artificial/blob/main/algoritmosBusca/PortoUniao_Curitiba_BuscaA_.ipynb\" target=\"_parent\"><img src=\"https://colab.research.google.com/assets/colab-badge.svg\" alt=\"Open In Colab\"/></a>"
      ]
    },
    {
      "cell_type": "code",
      "execution_count": 2,
      "metadata": {
        "colab": {
          "base_uri": "https://localhost:8080/"
        },
        "id": "I62QnDK-uUif",
        "outputId": "eabc40db-526d-4aac-97fe-f27701d1d996"
      },
      "outputs": [
        {
          "output_type": "stream",
          "name": "stdout",
          "text": [
            "Caminho encontrado: ['Porto União', 'São Mateus do Sul', 'Lapa', 'Contenda', 'Araucária', 'Curitiba']\n",
            "Distância total: 228 km\n"
          ]
        }
      ],
      "source": [
        "grafo = {\n",
        "    'Porto União': {'Paulo Frontin': 46, 'Canoinhas': 78, 'São Mateus do Sul': 87},\n",
        "    'Paulo Frontin': {'Irati': 75, 'Porto União': 46},\n",
        "    'Canoinhas': {'Porto União': 78, 'Três Barras': 12, 'Mafra':66},\n",
        "    'São Mateus do Sul': {'Lapa': 60, 'Palmeira': 70, 'Irati': 57, 'Três Barras':43},\n",
        "    'Lapa': {'Contenda': 26, 'Mafra': 57},\n",
        "    'Contenda': {'Balsa Nova': 19, 'Araucária':18},\n",
        "    'Curitiba': {'Balsa Nova': 51, 'Araucária': 37, 'Campo Largo':29},\n",
        "    'Palmeira': {'Campo Largo':55,  'São Mateus do Sul': 77, 'Irati': 75},\n",
        "    'Araucária': {'Contenda': 18, 'Curitiba':37},\n",
        "    'Tijucas do Sul': {'Mafra': 99, 'São José dos Pinhais':49},\n",
        "    'Campo Largo': {'Balsa Nova': 22, 'Curitiba':29},\n",
        "    'Três Barras': {'São Mateus do Sul':43, 'Canoinhas':12}\n",
        "}\n",
        "\n",
        "\n",
        "heuristica = {\n",
        "    'Porto União': 203,\n",
        "    'Paulo Frontin': 172,\n",
        "    'Canoinhas':141,\n",
        "    'Três Barras': 131,\n",
        "    'São Mateus do Sul': 123,\n",
        "    'Irati':139,\n",
        "    'Curitiba':0,\n",
        "    'Palmeira': 59,\n",
        "    'Mafra':94,\n",
        "    'Campo Largo': 27,\n",
        "    'Balsa Nova':41,\n",
        "    'Lapa':74,\n",
        "    'Tijucas do Sul':56,\n",
        "    'Araucária':23,\n",
        "    'São José dos Pinhais':13,\n",
        "    'Contenda':39\n",
        "}\n",
        "\n",
        "import heapq\n",
        "\n",
        "# criação da função a_estrela, com o recebimento dos 4 parâmetros (os dicionários de grafo e estrela\n",
        "# e as cidades de busca.\n",
        "def a_estrela(grafo, heuristica, inicio, objetivo):\n",
        "\n",
        "    # Fila de prioridade para armazenar os nós a serem explorados, ordenados pelo menor custo total f(n)\n",
        "    fila_prioridade = []\n",
        "    heapq.heappush(fila_prioridade, (0, inicio))\n",
        "\n",
        "    # Dicionário para armazenar o custo acumulado mais baixo, iniciando em 0.\n",
        "    custos = {inicio: 0}\n",
        "    # Dicionário para armazenar o caminho percorrido a cada nó. Seu valor é None, pois só temos o ponto de partida\n",
        "    caminho = {inicio: None}\n",
        "\n",
        "    # O loop do algoritmo é processado enquanto tiver nós na fila de prioridade\n",
        "    while fila_prioridade:\n",
        "\n",
        "      # Remove o nó com o menor f(n) da fila\n",
        "      _, atual = heapq.heappop(fila_prioridade)\n",
        "\n",
        "      # Se chegamos ao objetivo, reconstruímos o caminho\n",
        "      if atual == objetivo:\n",
        "        caminho_reconstruido = []\n",
        "\n",
        "        while atual:\n",
        "          caminho_reconstruido.append(atual)\n",
        "          atual = caminho[atual]\n",
        "        return caminho_reconstruido[::-1], custos[objetivo]\n",
        "\n",
        "      # Explorar os vizinhos do nó atual\n",
        "      # Agora o for percorre o grafo calculando a distância de todos os vizinhos do nó atual e o novo custo.\n",
        "      for vizinho, custo in grafo[atual].items():\n",
        "        novo_custo = custos[atual] + custo\n",
        "\n",
        "        # A condição, ainda no loop obedece, a lógica de se o vizinho ainda não foi explorado ou se encontramos um caminho mais curto para o vizinho, o dicionário custos é atualizado\n",
        "        if vizinho not in custos or novo_custo < custos[vizinho]:\n",
        "          custos[vizinho] = novo_custo\n",
        "          # O cálculo da soma do novo custo com a heurística\n",
        "          prioridade = novo_custo + heuristica[vizinho]\n",
        "\n",
        "          #adicionado à fila de prioridade para continuar o laço\n",
        "          heapq.heappush(fila_prioridade, (prioridade, vizinho))\n",
        "          caminho[vizinho] = atual\n",
        "    return None, float('inf')  # Retorna None se não há caminho\n",
        "\n",
        "# Definindo os pontos de partida e objetivo\n",
        "inicio = 'Porto União'\n",
        "objetivo = 'Curitiba'\n",
        "\n",
        "# Executando o algoritmo A*\n",
        "caminho, distancia_total = a_estrela(grafo, heuristica, inicio, objetivo)\n",
        "\n",
        "print(\"Caminho encontrado:\", caminho)\n",
        "print(\"Distância total:\", distancia_total, \"km\")\n",
        "\n",
        "\n"
      ]
    }
  ]
}