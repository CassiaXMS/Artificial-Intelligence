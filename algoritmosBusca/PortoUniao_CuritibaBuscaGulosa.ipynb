{
  "nbformat": 4,
  "nbformat_minor": 0,
  "metadata": {
    "colab": {
      "provenance": [],
      "authorship_tag": "ABX9TyNzwWHKT/mWHKUXE4D9CIbo"
    },
    "kernelspec": {
      "name": "python3",
      "display_name": "Python 3"
    },
    "language_info": {
      "name": "python"
    }
  },
  "cells": [
    {
      "cell_type": "code",
      "execution_count": null,
      "metadata": {
        "colab": {
          "base_uri": "https://localhost:8080/"
        },
        "id": "sJBl0zxpYN-y",
        "outputId": "8df2e51a-a595-433d-cce5-219a9b540ef7"
      },
      "outputs": [
        {
          "output_type": "stream",
          "name": "stdout",
          "text": [
            "Caminho encontrado: ['Porto União', 'São Mateus do Sul', 'Palmeira', 'Campo Largo', 'Curitiba']\n",
            "Distância total: 248 km\n"
          ]
        }
      ],
      "source": [
        "grafo = {\n",
        "    'Porto União': {'Paulo Frontin': 46, 'Canoinhas': 78, 'São Mateus do Sul': 87},\n",
        "    'Paulo Frontin': {'Irati': 75, 'Porto União': 46},\n",
        "    'Canoinhas': {'Porto União': 78, 'Três Barras': 12, 'Mafra':66},\n",
        "    'São Mateus do Sul': {'Lapa': 60, 'Palmeira': 77, 'Irati': 57, 'Três Barras':43},\n",
        "    'Lapa': {'Contenda': 26, 'Mafra': 57},\n",
        "    'Contenda': {'Balsa Nova': 19, 'Araucária':18},\n",
        "    'Curitiba': {'Balsa Nova': 51, 'Araucária': 37, 'Campo Largo':29},\n",
        "    'Palmeira': {'Campo Largo':55,  'São Mateus do Sul': 77, 'Irati': 75},\n",
        "    'Araucária': {'Contenda': 18, 'Curitiba':37},\n",
        "    'Tijucas do Sul': {'Mafra': 99, 'São José dos Pinhais':49},\n",
        "    'Campo Largo': {'Balsa Nova': 22, 'Curitiba':29}\n",
        "\n",
        "}\n",
        "\n",
        "\n",
        "heuristica = {\n",
        "    'Porto União': 203,\n",
        "    'Paulo Frontin': 172,\n",
        "    'Canoinhas':141,\n",
        "    'Três Barras': 131,\n",
        "    'São Mateus do Sul': 123,\n",
        "    'Irati':139,\n",
        "    'Curitiba':0,\n",
        "    'Palmeira': 59,\n",
        "    'Mafra':94,\n",
        "    'Campo Largo': 27,\n",
        "    'Balsa Nova':41,\n",
        "    'Lapa':74,\n",
        "    'Tijucas do Sul':56,\n",
        "    'Araucária':23,\n",
        "    'São José dos Pinhais':13,\n",
        "    'Contenda':39\n",
        "}\n",
        "\n",
        "\n",
        "def busca_gulosa(grafo, heuristica, inicio, objetivo):\n",
        "    # Inicia o nó atual como o ponto de partida\n",
        "    atual = inicio\n",
        "    caminho = [atual]\n",
        "    distancia_total = 0\n",
        "\n",
        "    while atual != objetivo:\n",
        "        # Obtém os vizinhos do nó atual\n",
        "        vizinhos = grafo[atual]\n",
        "\n",
        "        # Escolhe o vizinho com a menor heurística\n",
        "        proximo = min(vizinhos, key=lambda n: heuristica[n])\n",
        "\n",
        "        # Atualiza a distância total\n",
        "        distancia_total += vizinhos[proximo]\n",
        "\n",
        "        # Move para o próximo nó\n",
        "        caminho.append(proximo)\n",
        "        atual = proximo\n",
        "\n",
        "    return caminho, distancia_total\n",
        "\n",
        "# Definindo os pontos de partida e objetivo\n",
        "inicio = 'Porto União'\n",
        "objetivo = 'Curitiba'\n",
        "\n",
        "# Executando a busca gulosa\n",
        "caminho, distancia_total = busca_gulosa(grafo, heuristica, inicio, objetivo)\n",
        "\n",
        "print(\"Caminho encontrado:\", caminho)\n",
        "print(\"Distância total:\", distancia_total, \"km\")\n",
        "\n"
      ]
    }
  ]
}